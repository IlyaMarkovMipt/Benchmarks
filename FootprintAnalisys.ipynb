{
 "cells": [
  {
   "cell_type": "code",
   "execution_count": 3,
   "metadata": {
    "collapsed": true
   },
   "outputs": [],
   "source": [
    "import pandas as pd\n",
    "import numpy as np\n",
    "import json\n",
    "import sys"
   ]
  },
  {
   "cell_type": "code",
   "execution_count": null,
   "metadata": {
    "collapsed": true
   },
   "outputs": [],
   "source": []
  },
  {
   "cell_type": "code",
   "execution_count": 3,
   "metadata": {
    "collapsed": false
   },
   "outputs": [],
   "source": [
    "df = pd.read_json(\"objects.json\", dtype={\"name\":str, \"coords\": np.array})\n",
    "#df[\"coords\"] = df.coords.astype(np.ndarray)"
   ]
  },
  {
   "cell_type": "code",
   "execution_count": 4,
   "metadata": {
    "collapsed": false
   },
   "outputs": [
    {
     "data": {
      "text/html": [
       "<div>\n",
       "<table border=\"1\" class=\"dataframe\">\n",
       "  <thead>\n",
       "    <tr style=\"text-align: right;\">\n",
       "      <th></th>\n",
       "      <th>coords</th>\n",
       "      <th>name</th>\n",
       "    </tr>\n",
       "  </thead>\n",
       "  <tbody>\n",
       "    <tr>\n",
       "      <th>0</th>\n",
       "      <td>[-107.837519201, 107.752265664, -22.7960154139...</td>\n",
       "      <td>5i4qyrl6chofxhwrsllzjqhishtb417anp9ld3mo2b997x...</td>\n",
       "    </tr>\n",
       "    <tr>\n",
       "      <th>1</th>\n",
       "      <td>[145.280255119, 138.388473321, -118.932948485,...</td>\n",
       "      <td>rexb52du65nl8da51clyi3rfdrvatd5t9ryez8eozuw0d3...</td>\n",
       "    </tr>\n",
       "    <tr>\n",
       "      <th>2</th>\n",
       "      <td>[125.348218698, 71.7519941445, 65.2878742037, ...</td>\n",
       "      <td>4yevon0tc78ipgcezvpjkc4id1pqkqoyw005gpnq635zou...</td>\n",
       "    </tr>\n",
       "    <tr>\n",
       "      <th>3</th>\n",
       "      <td>[-9.1556327249, -32.5038742627, 83.0107244253,...</td>\n",
       "      <td>v6i56wa5snigfknxia7dlf5vrdbl88sbhbx9w1x8l54sgu...</td>\n",
       "    </tr>\n",
       "    <tr>\n",
       "      <th>4</th>\n",
       "      <td>[-81.2724350109, 134.760054097, -12.5143615838...</td>\n",
       "      <td>6yxge1kgn53ow9z5ojm5v14iaqlv8d1mwbtowvt4egf048...</td>\n",
       "    </tr>\n",
       "  </tbody>\n",
       "</table>\n",
       "</div>"
      ],
      "text/plain": [
       "                                              coords  \\\n",
       "0  [-107.837519201, 107.752265664, -22.7960154139...   \n",
       "1  [145.280255119, 138.388473321, -118.932948485,...   \n",
       "2  [125.348218698, 71.7519941445, 65.2878742037, ...   \n",
       "3  [-9.1556327249, -32.5038742627, 83.0107244253,...   \n",
       "4  [-81.2724350109, 134.760054097, -12.5143615838...   \n",
       "\n",
       "                                                name  \n",
       "0  5i4qyrl6chofxhwrsllzjqhishtb417anp9ld3mo2b997x...  \n",
       "1  rexb52du65nl8da51clyi3rfdrvatd5t9ryez8eozuw0d3...  \n",
       "2  4yevon0tc78ipgcezvpjkc4id1pqkqoyw005gpnq635zou...  \n",
       "3  v6i56wa5snigfknxia7dlf5vrdbl88sbhbx9w1x8l54sgu...  \n",
       "4  6yxge1kgn53ow9z5ojm5v14iaqlv8d1mwbtowvt4egf048...  "
      ]
     },
     "execution_count": 4,
     "metadata": {},
     "output_type": "execute_result"
    }
   ],
   "source": [
    "df.head()"
   ]
  },
  {
   "cell_type": "code",
   "execution_count": 18,
   "metadata": {
    "collapsed": false
   },
   "outputs": [
    {
     "data": {
      "text/plain": [
       "(200000, 2)"
      ]
     },
     "execution_count": 18,
     "metadata": {},
     "output_type": "execute_result"
    }
   ],
   "source": [
    "df.shape"
   ]
  },
  {
   "cell_type": "code",
   "execution_count": 5,
   "metadata": {
    "collapsed": false
   },
   "outputs": [
    {
     "data": {
      "text/plain": [
       "13.395049350385172"
      ]
     },
     "execution_count": 5,
     "metadata": {},
     "output_type": "execute_result"
    }
   ],
   "source": [
    "df.coords.map(lambda l: [len(str(x)) for x in l]).map(np.mean).mean()"
   ]
  },
  {
   "cell_type": "code",
   "execution_count": 5,
   "metadata": {
    "collapsed": false
   },
   "outputs": [],
   "source": [
    "lens = df.coords.map(len) * 9 + df.name.map(len)"
   ]
  },
  {
   "cell_type": "code",
   "execution_count": 47,
   "metadata": {
    "collapsed": false
   },
   "outputs": [
    {
     "name": "stdout",
     "output_type": "stream",
     "text": [
      "[1.0947368421052632, 1.090034965034965, 1.083400160384924, 1.073279052553664]\n"
     ]
    }
   ],
   "source": [
    "l = [1045, 1144, 1247, 1351, 1450]\n",
    "div = []\n",
    "for i in range(1,5):\n",
    "    div.append(l[i] * 1.0 / l[i-1])\n",
    "print div\n",
    "fact = np.mean(div)"
   ]
  },
  {
   "cell_type": "code",
   "execution_count": 6,
   "metadata": {
    "collapsed": false
   },
   "outputs": [
    {
     "data": {
      "text/plain": [
       "count    200000.000000\n",
       "mean       1247.254530\n",
       "std         588.869052\n",
       "min          47.000000\n",
       "25%         746.000000\n",
       "50%        1247.000000\n",
       "75%        1745.000000\n",
       "max        2450.000000\n",
       "dtype: float64"
      ]
     },
     "execution_count": 6,
     "metadata": {},
     "output_type": "execute_result"
    }
   ],
   "source": [
    "lens.describe()"
   ]
  },
  {
   "cell_type": "code",
   "execution_count": 19,
   "metadata": {
    "collapsed": false
   },
   "outputs": [
    {
     "name": "stdout",
     "output_type": "stream",
     "text": [
      "factor: 1.01, err: 1970.73278, bins: 393\n",
      "factor: 1.02, err: 1001.935415, bins: 198\n",
      "factor: 1.03, err: 683.144025, bins: 133\n",
      "factor: 1.04, err: 529.24004, bins: 101\n",
      "factor: 1.05, err: 435.36874, bins: 81\n",
      "factor: 1.06, err: 376.568765, bins: 68\n",
      "factor: 1.07, err: 337.68323, bins: 59\n",
      "factor: 1.08, err: 308.911705, bins: 52\n",
      "factor: 1.09, err: 289.72668, bins: 47\n",
      "factor: 1.1, err: 270.995455, bins: 42\n",
      "factor: 1.11, err: 261.758465, bins: 39\n",
      "factor: 1.12, err: 252.65348, bins: 36\n",
      "factor: 1.13, err: 244.29616, bins: 33\n",
      "factor: 1.14, err: 240.28285, bins: 31\n",
      "factor: 1.15, err: 235.99539, bins: 29\n",
      "factor: 1.16, err: 236.517575, bins: 28\n",
      "factor: 1.17, err: 233.03078, bins: 26\n",
      "factor: 1.18, err: 233.78421, bins: 25\n",
      "factor: 1.19, err: 234.532255, bins: 24\n",
      "factor: 1.2, err: 234.92727, bins: 23\n",
      "factor: 1.21, err: 235.76589, bins: 22\n",
      "factor: 1.22, err: 237.02485, bins: 21\n",
      "factor: 1.23, err: 239.057245, bins: 20\n",
      "factor: 1.24, err: 243.096145, bins: 20\n",
      "factor: 1.25, err: 243.36887, bins: 19\n",
      "factor: 1.26, err: 248.20647, bins: 18\n",
      "factor: 1.27, err: 248.621475, bins: 18\n",
      "factor: 1.28, err: 255.46168, bins: 17\n",
      "factor: 1.29, err: 254.54084, bins: 17\n",
      "factor: 1.3, err: 262.838585, bins: 16\n",
      "factor: 1.31, err: 261.64676, bins: 16\n",
      "factor: 1.32, err: 269.09393, bins: 16\n",
      "factor: 1.33, err: 274.802005, bins: 15\n",
      "factor: 1.34, err: 270.56012, bins: 15\n",
      "factor: 1.35, err: 278.077105, bins: 14\n",
      "factor: 1.36, err: 289.30548, bins: 14\n",
      "factor: 1.37, err: 283.56909, bins: 14\n",
      "factor: 1.38, err: 287.37852, bins: 14\n",
      "factor: 1.39, err: 302.00621, bins: 13\n",
      "factor: 1.4, err: 306.40565, bins: 13\n",
      "factor: 1.41, err: 297.955555, bins: 13\n",
      "factor: 1.42, err: 301.27992, bins: 13\n",
      "factor: 1.43, err: 317.07285, bins: 12\n",
      "factor: 1.44, err: 329.580435, bins: 12\n",
      "factor: 1.45, err: 326.46867, bins: 12\n",
      "factor: 1.46, err: 316.804535, bins: 12\n",
      "factor: 1.47, err: 319.05744, bins: 12\n",
      "factor: 1.48, err: 335.77493, bins: 11\n",
      "factor: 1.49, err: 353.89064, bins: 11\n",
      "factor: 1.5, err: 360.991535, bins: 11\n"
     ]
    },
    {
     "data": {
      "text/plain": [
       "1.1699999999999999"
      ]
     },
     "execution_count": 19,
     "metadata": {},
     "output_type": "execute_result"
    }
   ],
   "source": [
    "factors = np.linspace(1.01, 1.5, 50)\n",
    "min_err = np.inf\n",
    "arg_fac_min = 1.05\n",
    "MIN_LEN = 50\n",
    "SIZE = lens.shape[0] # for normalization of errors\n",
    "MAX_LEN = 2450\n",
    "coeff = 5 # fine for big number of bins\n",
    "func = np.vectorize(lambda x: x if x >= 0 else np.inf)\n",
    "for factor in factors:\n",
    "    err = 0.0\n",
    "    bins = [MIN_LEN]\n",
    "    f = MIN_LEN\n",
    "    while f < MAX_LEN:\n",
    "        f *= factor\n",
    "        bins.append(int(f))\n",
    "    binsa = np.array(bins)\n",
    "    for length in lens:\n",
    "        err += (binsa[binsa >= length].min() - length) * 1.0 / SIZE \n",
    "    err += coeff * len(bins)\n",
    "    print \"factor: %s, err: %s, bins: %s\" % (factor, err, len(bins))\n",
    "    if err < min_err:\n",
    "        arg_fac_min = factor\n",
    "        min_err = err\n",
    "\n",
    "arg_fac_min     "
   ]
  },
  {
   "cell_type": "code",
   "execution_count": 24,
   "metadata": {
    "collapsed": false
   },
   "outputs": [],
   "source": [
    "def find_factor(sizes, space, bins_fine):\n",
    "    min_err = np.inf\n",
    "    arg_fac_min = space[0]\n",
    "    MIN_LEN = sizes.min()\n",
    "    SIZE = sizes.shape[0] # for normalization of errors\n",
    "    MAX_LEN = sizes.max()\n",
    "    for factor in factors:\n",
    "        err = 0.0\n",
    "        bins = [MIN_LEN]\n",
    "        f = MIN_LEN\n",
    "        while f < MAX_LEN:\n",
    "            f *= factor\n",
    "            bins.append(int(f))\n",
    "        bins = np.array(bins)\n",
    "        for length in lens:\n",
    "            err += (bins[bins >= length].min() - length) * 1.0 / SIZE \n",
    "        err += bins_fine * len(bins)\n",
    "        #print \"factor: %s, err: %s, bins: %s\" % (factor, err, len(bins))\n",
    "        if err < min_err:\n",
    "            arg_fac_min = factor\n",
    "            min_err = err\n",
    "    return arg_fac_min, min_err"
   ]
  },
  {
   "cell_type": "code",
   "execution_count": 26,
   "metadata": {
    "collapsed": false
   },
   "outputs": [
    {
     "data": {
      "text/plain": [
       "(1.1400000000000001, 180.42321000001226)"
      ]
     },
     "execution_count": 26,
     "metadata": {},
     "output_type": "execute_result"
    }
   ],
   "source": [
    "find_factor(lens, np.linspace(1.01, 1.5, 50), 3)"
   ]
  },
  {
   "cell_type": "markdown",
   "metadata": {},
   "source": [
    "# Here we get statistics of beer dataset"
   ]
  },
  {
   "cell_type": "code",
   "execution_count": 4,
   "metadata": {
    "collapsed": false
   },
   "outputs": [],
   "source": [
    "df = pd.read_csv('beer_subset.csv.gz', parse_dates=['time'], compression='gzip')"
   ]
  },
  {
   "cell_type": "code",
   "execution_count": 4,
   "metadata": {
    "collapsed": false
   },
   "outputs": [
    {
     "data": {
      "text/html": [
       "<div>\n",
       "<table border=\"1\" class=\"dataframe\">\n",
       "  <thead>\n",
       "    <tr style=\"text-align: right;\">\n",
       "      <th></th>\n",
       "      <th>abv</th>\n",
       "      <th>beer_id</th>\n",
       "      <th>brewer_id</th>\n",
       "      <th>beer_name</th>\n",
       "      <th>beer_style</th>\n",
       "      <th>review_appearance</th>\n",
       "      <th>review_aroma</th>\n",
       "      <th>review_overall</th>\n",
       "      <th>review_palate</th>\n",
       "      <th>profile_name</th>\n",
       "      <th>review_taste</th>\n",
       "      <th>text</th>\n",
       "      <th>time</th>\n",
       "    </tr>\n",
       "  </thead>\n",
       "  <tbody>\n",
       "    <tr>\n",
       "      <th>0</th>\n",
       "      <td>7.0</td>\n",
       "      <td>2511</td>\n",
       "      <td>287</td>\n",
       "      <td>Bell's Cherry Stout</td>\n",
       "      <td>American Stout</td>\n",
       "      <td>4.5</td>\n",
       "      <td>4.0</td>\n",
       "      <td>4.5</td>\n",
       "      <td>4.0</td>\n",
       "      <td>blaheath</td>\n",
       "      <td>4.5</td>\n",
       "      <td>Batch 8144\\tPitch black in color with a 1/2 f...</td>\n",
       "      <td>2009-10-05 21:31:48</td>\n",
       "    </tr>\n",
       "    <tr>\n",
       "      <th>1</th>\n",
       "      <td>5.7</td>\n",
       "      <td>19736</td>\n",
       "      <td>9790</td>\n",
       "      <td>Duck-Rabbit Porter</td>\n",
       "      <td>American Porter</td>\n",
       "      <td>4.5</td>\n",
       "      <td>4.0</td>\n",
       "      <td>4.5</td>\n",
       "      <td>4.0</td>\n",
       "      <td>GJ40</td>\n",
       "      <td>4.0</td>\n",
       "      <td>Sampled from a 12oz bottle in a standard pint...</td>\n",
       "      <td>2009-10-05 21:32:09</td>\n",
       "    </tr>\n",
       "    <tr>\n",
       "      <th>2</th>\n",
       "      <td>4.8</td>\n",
       "      <td>11098</td>\n",
       "      <td>3182</td>\n",
       "      <td>Fürstenberg Premium Pilsener</td>\n",
       "      <td>German Pilsener</td>\n",
       "      <td>4.0</td>\n",
       "      <td>3.0</td>\n",
       "      <td>3.0</td>\n",
       "      <td>3.0</td>\n",
       "      <td>biegaman</td>\n",
       "      <td>3.5</td>\n",
       "      <td>Haystack yellow with an energetic group of bu...</td>\n",
       "      <td>2009-10-05 21:32:13</td>\n",
       "    </tr>\n",
       "    <tr>\n",
       "      <th>3</th>\n",
       "      <td>9.5</td>\n",
       "      <td>28577</td>\n",
       "      <td>3818</td>\n",
       "      <td>Unearthly (Imperial India Pale Ale)</td>\n",
       "      <td>American Double / Imperial IPA</td>\n",
       "      <td>4.0</td>\n",
       "      <td>4.0</td>\n",
       "      <td>4.0</td>\n",
       "      <td>4.0</td>\n",
       "      <td>nick76</td>\n",
       "      <td>4.0</td>\n",
       "      <td>The aroma has pine, wood, citrus, caramel, an...</td>\n",
       "      <td>2009-10-05 21:32:37</td>\n",
       "    </tr>\n",
       "    <tr>\n",
       "      <th>4</th>\n",
       "      <td>5.8</td>\n",
       "      <td>398</td>\n",
       "      <td>119</td>\n",
       "      <td>Wolaver's Pale Ale</td>\n",
       "      <td>American Pale Ale (APA)</td>\n",
       "      <td>4.0</td>\n",
       "      <td>3.0</td>\n",
       "      <td>4.0</td>\n",
       "      <td>3.5</td>\n",
       "      <td>champ103</td>\n",
       "      <td>3.0</td>\n",
       "      <td>A: Pours a slightly hazy golden/orange color....</td>\n",
       "      <td>2009-10-05 21:33:14</td>\n",
       "    </tr>\n",
       "  </tbody>\n",
       "</table>\n",
       "</div>"
      ],
      "text/plain": [
       "   abv  beer_id  brewer_id                            beer_name  \\\n",
       "0  7.0     2511        287                  Bell's Cherry Stout   \n",
       "1  5.7    19736       9790                   Duck-Rabbit Porter   \n",
       "2  4.8    11098       3182         Fürstenberg Premium Pilsener   \n",
       "3  9.5    28577       3818  Unearthly (Imperial India Pale Ale)   \n",
       "4  5.8      398        119                   Wolaver's Pale Ale   \n",
       "\n",
       "                       beer_style  review_appearance  review_aroma  \\\n",
       "0                  American Stout                4.5           4.0   \n",
       "1                 American Porter                4.5           4.0   \n",
       "2                 German Pilsener                4.0           3.0   \n",
       "3  American Double / Imperial IPA                4.0           4.0   \n",
       "4         American Pale Ale (APA)                4.0           3.0   \n",
       "\n",
       "   review_overall  review_palate profile_name  review_taste  \\\n",
       "0             4.5            4.0     blaheath           4.5   \n",
       "1             4.5            4.0         GJ40           4.0   \n",
       "2             3.0            3.0     biegaman           3.5   \n",
       "3             4.0            4.0       nick76           4.0   \n",
       "4             4.0            3.5     champ103           3.0   \n",
       "\n",
       "                                                text                time  \n",
       "0   Batch 8144\\tPitch black in color with a 1/2 f... 2009-10-05 21:31:48  \n",
       "1   Sampled from a 12oz bottle in a standard pint... 2009-10-05 21:32:09  \n",
       "2   Haystack yellow with an energetic group of bu... 2009-10-05 21:32:13  \n",
       "3   The aroma has pine, wood, citrus, caramel, an... 2009-10-05 21:32:37  \n",
       "4   A: Pours a slightly hazy golden/orange color.... 2009-10-05 21:33:14  "
      ]
     },
     "execution_count": 4,
     "metadata": {},
     "output_type": "execute_result"
    }
   ],
   "source": [
    "df.head()"
   ]
  },
  {
   "cell_type": "code",
   "execution_count": 49,
   "metadata": {
    "collapsed": false
   },
   "outputs": [
    {
     "data": {
      "text/plain": [
       "76.740906715393066"
      ]
     },
     "execution_count": 49,
     "metadata": {},
     "output_type": "execute_result"
    }
   ],
   "source": [
    "length = 0\n",
    "df.time = df.time.astype(int)\n",
    "for name in df.columns:\n",
    "    length += df[name].map(lambda x: str(x)).map(len).sum()\n",
    "length* 1.0 /(1024 * 1024)"
   ]
  },
  {
   "cell_type": "code",
   "execution_count": 5,
   "metadata": {
    "collapsed": true
   },
   "outputs": [],
   "source": [
    "df.dropna(inplace=True)"
   ]
  },
  {
   "cell_type": "code",
   "execution_count": 6,
   "metadata": {
    "collapsed": false
   },
   "outputs": [
    {
     "data": {
      "text/plain": [
       "737.30289304801795"
      ]
     },
     "execution_count": 6,
     "metadata": {},
     "output_type": "execute_result"
    }
   ],
   "source": [
    "df.text.map(len).mean()"
   ]
  },
  {
   "cell_type": "code",
   "execution_count": 54,
   "metadata": {
    "collapsed": false
   },
   "outputs": [
    {
     "data": {
      "text/plain": [
       "427.38948845463364"
      ]
     },
     "execution_count": 54,
     "metadata": {},
     "output_type": "execute_result"
    }
   ],
   "source": [
    "import zlib\n",
    "df.text.map(zlib.compress).map(len).mean()"
   ]
  },
  {
   "cell_type": "code",
   "execution_count": 42,
   "metadata": {
    "collapsed": false
   },
   "outputs": [],
   "source": [
    "a = df.time.map(lambda x: str(x)).map(len)"
   ]
  },
  {
   "cell_type": "code",
   "execution_count": 12,
   "metadata": {
    "collapsed": false
   },
   "outputs": [
    {
     "data": {
      "text/plain": [
       "\"[5.9, 36034, 624, '6288 Stout', 'American Stout', 4.0, 4.0, 4.0, 4.0, 'mikesgroove', 4.0, ' I am really not sure where this one came from, but I apparently picked it up recently and saw it sitting in the fridge so I grabbed for it last night while watching the game. Served chilled and poured into a pint glass this one was consumed on 10/20/2009. \\\\t \\\\tReally nice pour, very typical for the style with a deep dark black look to it and a nice head of maybe two inches that came up and over the top with some ease. Settling down it left a decent amount of lacing on the sides, but nothing spectacular though it did retain a good bit of the puff of tan on top. The aroma was nice, well blended mix of chocolate and roasted malts, hints of light coffee notes and a decent bit of dark fruit note carrying over. This was pretty much par for the course with the flavor. Started out very smooth with a rich and well defined chocolate note that dominated early before mellowing with a nice but of vanilla and coffee notes. Small touch of hops catching up right there at the end were enough to make it just slightly bitter, but overall it was a smooth, creamy and very session able stout. \\\\t \\\\tI would have no issue with trying this one again as it went down quite nicely and really left a soft, sweet note in the end. Very well done.', 1256168819000000000]\""
      ]
     },
     "execution_count": 12,
     "metadata": {},
     "output_type": "execute_result"
    }
   ],
   "source": [
    "import redis\n",
    "r = redis.Redis(host='localhost', port=6379, db=0)"
   ]
  },
  {
   "cell_type": "code",
   "execution_count": 50,
   "metadata": {
    "collapsed": false
   },
   "outputs": [
    {
     "data": {
      "text/plain": [
       "84477909"
      ]
     },
     "execution_count": 50,
     "metadata": {},
     "output_type": "execute_result"
    }
   ],
   "source": [
    "s = 0\n",
    "for i, val in enumerate(df.values):\n",
    "    s += len(r.get(i))\n",
    "s"
   ]
  },
  {
   "cell_type": "code",
   "execution_count": 51,
   "metadata": {
    "collapsed": false
   },
   "outputs": [
    {
     "data": {
      "text/plain": [
       "80.5644121170044"
      ]
     },
     "execution_count": 51,
     "metadata": {},
     "output_type": "execute_result"
    }
   ],
   "source": [
    "s * 1.0 /(1024 * 1024)"
   ]
  },
  {
   "cell_type": "code",
   "execution_count": 17,
   "metadata": {
    "collapsed": true
   },
   "outputs": [],
   "source": [
    "s = r.get(5000)"
   ]
  },
  {
   "cell_type": "code",
   "execution_count": 29,
   "metadata": {
    "collapsed": false
   },
   "outputs": [
    {
     "data": {
      "text/plain": [
       "{u'avgObjSize': 733,\n",
       " u'capped': False,\n",
       " u'count': 96922,\n",
       " u'indexDetails': {u'_id_': {u'LSM': {u'bloom filter false positives': 0,\n",
       "    u'bloom filter hits': 0,\n",
       "    u'bloom filter misses': 0,\n",
       "    u'bloom filter pages evicted from cache': 0,\n",
       "    u'bloom filter pages read into cache': 0,\n",
       "    u'bloom filters in the LSM tree': 0,\n",
       "    u'chunks in the LSM tree': 0,\n",
       "    u'highest merge generation in the LSM tree': 0,\n",
       "    u'queries that could have benefited from a Bloom filter that did not exist': 0,\n",
       "    u'sleep for LSM checkpoint throttle': 0,\n",
       "    u'sleep for LSM merge throttle': 0,\n",
       "    u'total size of bloom filters': 0},\n",
       "   u'block-manager': {u'allocations requiring file extension': 66,\n",
       "    u'blocks allocated': 66,\n",
       "    u'blocks freed': 0,\n",
       "    u'checkpoint size': 782336,\n",
       "    u'file allocation unit size': 4096,\n",
       "    u'file bytes available for reuse': 0,\n",
       "    u'file magic number': 120897,\n",
       "    u'file major version number': 1,\n",
       "    u'file size in bytes': 794624,\n",
       "    u'minor version number': 0},\n",
       "   u'btree': {u'btree checkpoint generation': 3,\n",
       "    u'column-store fixed-size leaf pages': 0,\n",
       "    u'column-store internal pages': 0,\n",
       "    u'column-store variable-size RLE encoded values': 0,\n",
       "    u'column-store variable-size deleted values': 0,\n",
       "    u'column-store variable-size leaf pages': 0,\n",
       "    u'fixed-record size': 0,\n",
       "    u'maximum internal page key size': 1228,\n",
       "    u'maximum internal page size': 16384,\n",
       "    u'maximum leaf page key size': 1228,\n",
       "    u'maximum leaf page size': 16384,\n",
       "    u'maximum leaf page value size': 6144,\n",
       "    u'maximum tree depth': 3,\n",
       "    u'number of key/value pairs': 0,\n",
       "    u'overflow pages': 0,\n",
       "    u'pages rewritten by compaction': 0,\n",
       "    u'row-store internal pages': 0,\n",
       "    u'row-store leaf pages': 0},\n",
       "   u'cache': {u'bytes currently in the cache': 7605506,\n",
       "    u'bytes read into cache': 0,\n",
       "    u'bytes written from cache': 779575,\n",
       "    u'checkpoint blocked page eviction': 0,\n",
       "    u'data source pages selected for eviction unable to be evicted': 0,\n",
       "    u'hazard pointer blocked page eviction': 0,\n",
       "    u'in-memory page passed criteria to be split': 2,\n",
       "    u'in-memory page splits': 1,\n",
       "    u'internal pages evicted': 0,\n",
       "    u'internal pages split during eviction': 0,\n",
       "    u'leaf pages split during eviction': 0,\n",
       "    u'modified pages evicted': 0,\n",
       "    u'overflow pages read into cache': 0,\n",
       "    u'overflow values cached in memory': 0,\n",
       "    u'page split during eviction deepened the tree': 0,\n",
       "    u'page written requiring lookaside records': 0,\n",
       "    u'pages read into cache': 0,\n",
       "    u'pages read into cache requiring lookaside entries': 0,\n",
       "    u'pages requested from the cache': 96923,\n",
       "    u'pages written from cache': 65,\n",
       "    u'pages written requiring in-memory restoration': 0,\n",
       "    u'unmodified pages evicted': 0},\n",
       "   u'cache_walk': {u'Average difference between current eviction generation when the page was last considered': 0,\n",
       "    u'Average on-disk page image size seen': 0,\n",
       "    u'Clean pages currently in cache': 0,\n",
       "    u'Current eviction generation': 0,\n",
       "    u'Dirty pages currently in cache': 0,\n",
       "    u'Entries in the root page': 0,\n",
       "    u'Internal pages currently in cache': 0,\n",
       "    u'Leaf pages currently in cache': 0,\n",
       "    u'Maximum difference between current eviction generation when the page was last considered': 0,\n",
       "    u'Maximum page size seen': 0,\n",
       "    u'Minimum on-disk page image size seen': 0,\n",
       "    u'On-disk page image sizes smaller than a single allocation unit': 0,\n",
       "    u'Pages created in memory and never written': 0,\n",
       "    u'Pages currently queued for eviction': 0,\n",
       "    u'Pages that could not be queued for eviction': 0,\n",
       "    u'Refs skipped during cache traversal': 0,\n",
       "    u'Size of the root page': 0,\n",
       "    u'Total number of pages currently in cache': 0},\n",
       "   u'compression': {u'compressed pages read': 0,\n",
       "    u'compressed pages written': 0,\n",
       "    u'page written failed to compress': 0,\n",
       "    u'page written was too small to compress': 0,\n",
       "    u'raw compression call failed, additional data available': 0,\n",
       "    u'raw compression call failed, no additional data available': 0,\n",
       "    u'raw compression call succeeded': 0},\n",
       "   u'creationString': u'allocation_size=4KB,app_metadata=(formatVersion=6,infoObj={ \"v\" : 1, \"key\" : { \"_id\" : 1 }, \"name\" : \"_id_\", \"ns\" : \"test2.nosql\" }),block_allocation=best,block_compressor=,cache_resident=false,checksum=on,colgroups=,collator=,columns=,dictionary=0,encryption=(keyid=,name=),exclusive=false,extractor=,format=btree,huffman_key=,huffman_value=,ignore_in_memory_cache_size=false,immutable=false,internal_item_max=0,internal_key_max=0,internal_key_truncate=true,internal_page_max=16k,key_format=u,key_gap=10,leaf_item_max=0,leaf_key_max=0,leaf_page_max=16k,leaf_value_max=0,log=(enabled=true),lsm=(auto_throttle=true,bloom=true,bloom_bit_count=16,bloom_config=,bloom_hash_count=8,bloom_oldest=false,chunk_count_limit=0,chunk_max=5GB,chunk_size=10MB,merge_max=15,merge_min=0),memory_page_max=5MB,os_cache_dirty_max=0,os_cache_max=0,prefix_compression=true,prefix_compression_min=4,source=,split_deepen_min_child=0,split_deepen_per_child=0,split_pct=75,type=file,value_format=u',\n",
       "   u'cursor': {u'bulk-loaded cursor-insert calls': 0,\n",
       "    u'create calls': 2,\n",
       "    u'cursor-insert key and value bytes inserted': 1646651,\n",
       "    u'cursor-remove key bytes removed': 0,\n",
       "    u'cursor-update value bytes updated': 0,\n",
       "    u'insert calls': 96922,\n",
       "    u'next calls': 0,\n",
       "    u'prev calls': 0,\n",
       "    u'remove calls': 0,\n",
       "    u'reset calls': 96922,\n",
       "    u'restarted searches': 0,\n",
       "    u'search calls': 0,\n",
       "    u'search near calls': 0,\n",
       "    u'truncate calls': 0,\n",
       "    u'update calls': 0},\n",
       "   u'metadata': {u'formatVersion': 6,\n",
       "    u'infoObj': u'{ \"v\" : 1, \"key\" : { \"_id\" : 1 }, \"name\" : \"_id_\", \"ns\" : \"test2.nosql\" }'},\n",
       "   u'reconciliation': {u'dictionary matches': 0,\n",
       "    u'fast-path pages deleted': 0,\n",
       "    u'internal page key bytes discarded using suffix compression': 125,\n",
       "    u'internal page multi-block writes': 0,\n",
       "    u'internal-page overflow keys': 0,\n",
       "    u'leaf page key bytes discarded using prefix compression': 1162644,\n",
       "    u'leaf page multi-block writes': 2,\n",
       "    u'leaf-page overflow keys': 0,\n",
       "    u'maximum blocks required for a page': 38,\n",
       "    u'overflow values written': 0,\n",
       "    u'page checksum matches': 0,\n",
       "    u'page reconciliation calls': 3,\n",
       "    u'page reconciliation calls for eviction': 0,\n",
       "    u'pages deleted': 0},\n",
       "   u'session': {u'object compaction': 0, u'open cursor count': 2},\n",
       "   u'transaction': {u'update conflicts': 0},\n",
       "   u'type': u'file',\n",
       "   u'uri': u'statistics:table:index-3-7833125758329596188'}},\n",
       " u'indexSizes': {u'_id_': 794624},\n",
       " u'nindexes': 1,\n",
       " u'ns': u'test2.nosql',\n",
       " u'ok': 1.0,\n",
       " u'size': 71072299,\n",
       " u'storageSize': 60547072,\n",
       " u'totalIndexSize': 794624,\n",
       " u'wiredTiger': {u'LSM': {u'bloom filter false positives': 0,\n",
       "   u'bloom filter hits': 0,\n",
       "   u'bloom filter misses': 0,\n",
       "   u'bloom filter pages evicted from cache': 0,\n",
       "   u'bloom filter pages read into cache': 0,\n",
       "   u'bloom filters in the LSM tree': 0,\n",
       "   u'chunks in the LSM tree': 0,\n",
       "   u'highest merge generation in the LSM tree': 0,\n",
       "   u'queries that could have benefited from a Bloom filter that did not exist': 0,\n",
       "   u'sleep for LSM checkpoint throttle': 0,\n",
       "   u'sleep for LSM merge throttle': 0,\n",
       "   u'total size of bloom filters': 0},\n",
       "  u'block-manager': {u'allocations requiring file extension': 2560,\n",
       "   u'blocks allocated': 2560,\n",
       "   u'blocks freed': 0,\n",
       "   u'checkpoint size': 60534784,\n",
       "   u'file allocation unit size': 4096,\n",
       "   u'file bytes available for reuse': 0,\n",
       "   u'file magic number': 120897,\n",
       "   u'file major version number': 1,\n",
       "   u'file size in bytes': 60547072,\n",
       "   u'minor version number': 0},\n",
       "  u'btree': {u'btree checkpoint generation': 3,\n",
       "   u'column-store fixed-size leaf pages': 0,\n",
       "   u'column-store internal pages': 0,\n",
       "   u'column-store variable-size RLE encoded values': 0,\n",
       "   u'column-store variable-size deleted values': 0,\n",
       "   u'column-store variable-size leaf pages': 0,\n",
       "   u'fixed-record size': 0,\n",
       "   u'maximum internal page key size': 368,\n",
       "   u'maximum internal page size': 4096,\n",
       "   u'maximum leaf page key size': 2867,\n",
       "   u'maximum leaf page size': 32768,\n",
       "   u'maximum leaf page value size': 67108864,\n",
       "   u'maximum tree depth': 3,\n",
       "   u'number of key/value pairs': 0,\n",
       "   u'overflow pages': 0,\n",
       "   u'pages rewritten by compaction': 0,\n",
       "   u'row-store internal pages': 0,\n",
       "   u'row-store leaf pages': 0},\n",
       "  u'cache': {u'bytes currently in the cache': 83595197,\n",
       "   u'bytes read into cache': 0,\n",
       "   u'bytes written from cache': 71904916,\n",
       "   u'checkpoint blocked page eviction': 0,\n",
       "   u'data source pages selected for eviction unable to be evicted': 0,\n",
       "   u'hazard pointer blocked page eviction': 0,\n",
       "   u'in-memory page passed criteria to be split': 18,\n",
       "   u'in-memory page splits': 9,\n",
       "   u'internal pages evicted': 0,\n",
       "   u'internal pages split during eviction': 0,\n",
       "   u'leaf pages split during eviction': 0,\n",
       "   u'modified pages evicted': 0,\n",
       "   u'overflow pages read into cache': 0,\n",
       "   u'overflow values cached in memory': 0,\n",
       "   u'page split during eviction deepened the tree': 0,\n",
       "   u'page written requiring lookaside records': 0,\n",
       "   u'pages read into cache': 0,\n",
       "   u'pages read into cache requiring lookaside entries': 0,\n",
       "   u'pages requested from the cache': 96931,\n",
       "   u'pages written from cache': 2559,\n",
       "   u'pages written requiring in-memory restoration': 0,\n",
       "   u'unmodified pages evicted': 0},\n",
       "  u'cache_walk': {u'Average difference between current eviction generation when the page was last considered': 0,\n",
       "   u'Average on-disk page image size seen': 0,\n",
       "   u'Clean pages currently in cache': 0,\n",
       "   u'Current eviction generation': 0,\n",
       "   u'Dirty pages currently in cache': 0,\n",
       "   u'Entries in the root page': 0,\n",
       "   u'Internal pages currently in cache': 0,\n",
       "   u'Leaf pages currently in cache': 0,\n",
       "   u'Maximum difference between current eviction generation when the page was last considered': 0,\n",
       "   u'Maximum page size seen': 0,\n",
       "   u'Minimum on-disk page image size seen': 0,\n",
       "   u'On-disk page image sizes smaller than a single allocation unit': 0,\n",
       "   u'Pages created in memory and never written': 0,\n",
       "   u'Pages currently queued for eviction': 0,\n",
       "   u'Pages that could not be queued for eviction': 0,\n",
       "   u'Refs skipped during cache traversal': 0,\n",
       "   u'Size of the root page': 0,\n",
       "   u'Total number of pages currently in cache': 0},\n",
       "  u'compression': {u'compressed pages read': 0,\n",
       "   u'compressed pages written': 2544,\n",
       "   u'page written failed to compress': 1,\n",
       "   u'page written was too small to compress': 14,\n",
       "   u'raw compression call failed, additional data available': 0,\n",
       "   u'raw compression call failed, no additional data available': 0,\n",
       "   u'raw compression call succeeded': 0},\n",
       "  u'creationString': u'allocation_size=4KB,app_metadata=(formatVersion=1),block_allocation=best,block_compressor=snappy,cache_resident=false,checksum=on,colgroups=,collator=,columns=,dictionary=0,encryption=(keyid=,name=),exclusive=false,extractor=,format=btree,huffman_key=,huffman_value=,ignore_in_memory_cache_size=false,immutable=false,internal_item_max=0,internal_key_max=0,internal_key_truncate=true,internal_page_max=4KB,key_format=q,key_gap=10,leaf_item_max=0,leaf_key_max=0,leaf_page_max=32KB,leaf_value_max=64MB,log=(enabled=true),lsm=(auto_throttle=true,bloom=true,bloom_bit_count=16,bloom_config=,bloom_hash_count=8,bloom_oldest=false,chunk_count_limit=0,chunk_max=5GB,chunk_size=10MB,merge_max=15,merge_min=0),memory_page_max=10m,os_cache_dirty_max=0,os_cache_max=0,prefix_compression=false,prefix_compression_min=4,source=,split_deepen_min_child=0,split_deepen_per_child=0,split_pct=90,type=file,value_format=u',\n",
       "  u'cursor': {u'bulk-loaded cursor-insert calls': 0,\n",
       "   u'create calls': 2,\n",
       "   u'cursor-insert key and value bytes inserted': 71377622,\n",
       "   u'cursor-remove key bytes removed': 0,\n",
       "   u'cursor-update value bytes updated': 0,\n",
       "   u'insert calls': 96922,\n",
       "   u'next calls': 0,\n",
       "   u'prev calls': 1,\n",
       "   u'remove calls': 0,\n",
       "   u'reset calls': 96923,\n",
       "   u'restarted searches': 0,\n",
       "   u'search calls': 0,\n",
       "   u'search near calls': 0,\n",
       "   u'truncate calls': 0,\n",
       "   u'update calls': 0},\n",
       "  u'metadata': {u'formatVersion': 1},\n",
       "  u'reconciliation': {u'dictionary matches': 0,\n",
       "   u'fast-path pages deleted': 0,\n",
       "   u'internal page key bytes discarded using suffix compression': 2551,\n",
       "   u'internal page multi-block writes': 1,\n",
       "   u'internal-page overflow keys': 0,\n",
       "   u'leaf page key bytes discarded using prefix compression': 0,\n",
       "   u'leaf page multi-block writes': 10,\n",
       "   u'leaf-page overflow keys': 0,\n",
       "   u'maximum blocks required for a page': 276,\n",
       "   u'overflow values written': 0,\n",
       "   u'page checksum matches': 0,\n",
       "   u'page reconciliation calls': 12,\n",
       "   u'page reconciliation calls for eviction': 0,\n",
       "   u'pages deleted': 0},\n",
       "  u'session': {u'object compaction': 0, u'open cursor count': 2},\n",
       "  u'transaction': {u'update conflicts': 0},\n",
       "  u'type': u'file',\n",
       "  u'uri': u'statistics:table:collection-2-7833125758329596188'}}"
      ]
     },
     "execution_count": 29,
     "metadata": {},
     "output_type": "execute_result"
    }
   ],
   "source": [
    "import pymongo\n",
    "client = pymongo.MongoClient()\n",
    "db = client.test2\n",
    "res = db.command(\"collstats\", \"nosql\")\n",
    "res"
   ]
  },
  {
   "cell_type": "code",
   "execution_count": 22,
   "metadata": {
    "collapsed": false
   },
   "outputs": [
    {
     "data": {
      "text/plain": [
       "'x\\x9cMP1n\\x031\\x0c\\x9b\\xfb\\x0bn]\\x0e\\x17\\xa4\\xc8\\xd0\\xb5\\xdd2\\x14\\xe8\\xd0\\x0f(\\xb6\\x1c\\x0b\\xb1O\\x81\\xad\\xc3\\xe1~_9h\\xd1.\\x82(\\x81\\xa4(\\xbc\\x93\\x85\\x8c\\xd7\\xe3\\xe9\\xf4\\xf4)\\xa3\\xbd\\x14\\n7\\xc8\\x82\\xa0E\\x1b6\\xb1\\x0c\\xc2\\xf1\\xf0\\x82$\\xcb\\x95\\x1b2S\\x9c\\xf1\\xd6\\xb4\\x12\\xa4C\\x13\"\\xb5\\x1bR[\\xc5\\xfa\\x84\\x90\\xd5\\x99d<\\x81\\x96\\x88\\xa6\\xd4\\x8d#*\\x15\\xeb3\\xbe\\x06\\x1a\\xb4\\xa8U\\x16\\x1a\\x9b\\xcb\\x0e\\xa3fN\\xe4\\xd6\\xf6_\\xc3\"\\xd7l\\xa0 Ql\\xc7\\xbd\\xac\\xfdO\\xf9\\xf0_\\xf4\\xe1\\x124%\\xe6\\x19\\x1f\\x1ce\\xad\\xa8\\xbaZ\\xf6Ay,\\t=\\xab\\x1b\\xf4\\x8d\\xd9F\\n\\xe9\\xd9\\x03\\x18lS\\xecL\\xcdC\\x948\\xe1\\x0c\\xcb\\xb2\\xdc\\xbc\\x92\\x8d\\xb6\\xa3\\x9b\\x94\\x82L\\xdd!;\\xa2\\xdd_\\x80\\xbbn\\xfe\\x86\\xe4\\xcf!$\\xde~$L\\xfd\\x8a\\xea7\\x9c\\x11hy6l$6\\xa6n\\x18\\xe1\\x07\\xcd\\xdf\\x1b\\xde\\x7f\\xab'"
      ]
     },
     "execution_count": 22,
     "metadata": {},
     "output_type": "execute_result"
    }
   ],
   "source": [
    "import zlib\n",
    "bytes(zlib.compress(df.text[0]))"
   ]
  },
  {
   "cell_type": "code",
   "execution_count": 23,
   "metadata": {
    "collapsed": true
   },
   "outputs": [],
   "source": [
    "d = df.to_dict(orient='records')"
   ]
  },
  {
   "cell_type": "code",
   "execution_count": 24,
   "metadata": {
    "collapsed": false
   },
   "outputs": [
    {
     "data": {
      "text/plain": [
       "'{\\'text\\': \" Batch 8144\\\\tPitch black in color with a 1/2 finger head. Aroma is of dark fruits, chocolate, and roasted malts. Taste is dominated by tart cherry with a light acidity plus chocolate/roasted malt and coffee. Medium mouthfeel and a short sweet finish. At two years old, I think that this still has the staying power for a few years to come. I can\\'t wait to find out.\", \\'review_overall\\': 4.5, \\'review_aroma\\': 4.0, \\'review_appearance\\': 4.5, \\'beer_style\\': \\'American Stout\\', \\'review_palate\\': 4.0, \\'review_taste\\': 4.5, \\'beer_name\\': \"Bell\\'s Cherry Stout\", \\'abv\\': 7.0, \\'time\\': Timestamp(\\'2009-10-05 21:31:48\\'), \\'beer_id\\': 2511, \\'brewer_id\\': 287, \\'profile_name\\': \\'blaheath\\'}'"
      ]
     },
     "execution_count": 24,
     "metadata": {},
     "output_type": "execute_result"
    }
   ],
   "source": [
    "str(d[0])"
   ]
  },
  {
   "cell_type": "code",
   "execution_count": 30,
   "metadata": {
    "collapsed": false
   },
   "outputs": [],
   "source": [
    "from pymemcache.client.base import Client\n",
    "mc = Client(('localhost', 11211))\n"
   ]
  },
  {
   "cell_type": "code",
   "execution_count": 32,
   "metadata": {
    "collapsed": false
   },
   "outputs": [
    {
     "data": {
      "text/plain": [
       "105.15503883361816"
      ]
     },
     "execution_count": 32,
     "metadata": {},
     "output_type": "execute_result"
    }
   ],
   "source": [
    "mc.stats()[\"bytes\"] * 1.0 / (1024 * 1024)"
   ]
  },
  {
   "cell_type": "code",
   "execution_count": 18,
   "metadata": {
    "collapsed": false
   },
   "outputs": [
    {
     "data": {
      "text/plain": [
       "107.68141269683838"
      ]
     },
     "execution_count": 18,
     "metadata": {},
     "output_type": "execute_result"
    }
   ],
   "source": [
    "112912145 * 1.0 / (1024 * 1024)"
   ]
  },
  {
   "cell_type": "code",
   "execution_count": 11,
   "metadata": {
    "collapsed": false
   },
   "outputs": [
    {
     "ename": "error",
     "evalue": "[Errno 111] Connection refused",
     "output_type": "error",
     "traceback": [
      "\u001b[0;31m---------------------------------------------------------------------------\u001b[0m",
      "\u001b[0;31merror\u001b[0m                                     Traceback (most recent call last)",
      "\u001b[0;32m<ipython-input-11-a57d7e0994b5>\u001b[0m in \u001b[0;36m<module>\u001b[0;34m()\u001b[0m\n\u001b[1;32m      1\u001b[0m \u001b[0;32mfrom\u001b[0m \u001b[0mcouchdb\u001b[0m\u001b[0;34m.\u001b[0m\u001b[0mclient\u001b[0m \u001b[0;32mimport\u001b[0m \u001b[0mServer\u001b[0m\u001b[0;34m\u001b[0m\u001b[0m\n\u001b[1;32m      2\u001b[0m \u001b[0mserver\u001b[0m \u001b[0;34m=\u001b[0m \u001b[0mServer\u001b[0m\u001b[0;34m(\u001b[0m\u001b[0;34m)\u001b[0m\u001b[0;34m\u001b[0m\u001b[0m\n\u001b[0;32m----> 3\u001b[0;31m \u001b[0mdb\u001b[0m \u001b[0;34m=\u001b[0m \u001b[0mserver\u001b[0m\u001b[0;34m.\u001b[0m\u001b[0mcreate\u001b[0m\u001b[0;34m(\u001b[0m\u001b[0;34m\"test\"\u001b[0m\u001b[0;34m)\u001b[0m\u001b[0;34m\u001b[0m\u001b[0m\n\u001b[0m\u001b[1;32m      4\u001b[0m \u001b[0;31m#db.save({\"name\":\"gogogog\", \"sur\":\"vaaada\"})\u001b[0m\u001b[0;34m\u001b[0m\u001b[0;34m\u001b[0m\u001b[0m\n\u001b[1;32m      5\u001b[0m \u001b[0mdb\u001b[0m\u001b[0;34m.\u001b[0m\u001b[0mname\u001b[0m\u001b[0;34m\u001b[0m\u001b[0m\n",
      "\u001b[0;32m/usr/local/lib/python2.7/dist-packages/CouchDB-1.1-py2.7.egg/couchdb/client.pyc\u001b[0m in \u001b[0;36mcreate\u001b[0;34m(self, name)\u001b[0m\n\u001b[1;32m    205\u001b[0m         \u001b[0;34m:\u001b[0m\u001b[0;32mraise\u001b[0m \u001b[0mPreconditionFailed\u001b[0m\u001b[0;34m:\u001b[0m \u001b[0;32mif\u001b[0m \u001b[0ma\u001b[0m \u001b[0mdatabase\u001b[0m \u001b[0;32mwith\u001b[0m \u001b[0mthat\u001b[0m \u001b[0mname\u001b[0m \u001b[0malready\u001b[0m \u001b[0mexists\u001b[0m\u001b[0;34m\u001b[0m\u001b[0m\n\u001b[1;32m    206\u001b[0m         \"\"\"\n\u001b[0;32m--> 207\u001b[0;31m         \u001b[0mself\u001b[0m\u001b[0;34m.\u001b[0m\u001b[0mresource\u001b[0m\u001b[0;34m.\u001b[0m\u001b[0mput_json\u001b[0m\u001b[0;34m(\u001b[0m\u001b[0mname\u001b[0m\u001b[0;34m)\u001b[0m\u001b[0;34m\u001b[0m\u001b[0m\n\u001b[0m\u001b[1;32m    208\u001b[0m         \u001b[0;32mreturn\u001b[0m \u001b[0mself\u001b[0m\u001b[0;34m[\u001b[0m\u001b[0mname\u001b[0m\u001b[0;34m]\u001b[0m\u001b[0;34m\u001b[0m\u001b[0m\n\u001b[1;32m    209\u001b[0m \u001b[0;34m\u001b[0m\u001b[0m\n",
      "\u001b[0;32m/usr/local/lib/python2.7/dist-packages/CouchDB-1.1-py2.7.egg/couchdb/http.pyc\u001b[0m in \u001b[0;36mput_json\u001b[0;34m(self, path, body, headers, **params)\u001b[0m\n\u001b[1;32m    568\u001b[0m     \u001b[0;32mdef\u001b[0m \u001b[0mput_json\u001b[0m\u001b[0;34m(\u001b[0m\u001b[0mself\u001b[0m\u001b[0;34m,\u001b[0m \u001b[0mpath\u001b[0m\u001b[0;34m=\u001b[0m\u001b[0mNone\u001b[0m\u001b[0;34m,\u001b[0m \u001b[0mbody\u001b[0m\u001b[0;34m=\u001b[0m\u001b[0mNone\u001b[0m\u001b[0;34m,\u001b[0m \u001b[0mheaders\u001b[0m\u001b[0;34m=\u001b[0m\u001b[0mNone\u001b[0m\u001b[0;34m,\u001b[0m \u001b[0;34m**\u001b[0m\u001b[0mparams\u001b[0m\u001b[0;34m)\u001b[0m\u001b[0;34m:\u001b[0m\u001b[0;34m\u001b[0m\u001b[0m\n\u001b[1;32m    569\u001b[0m         return self._request_json('PUT', path, body=body, headers=headers,\n\u001b[0;32m--> 570\u001b[0;31m                                   **params)\n\u001b[0m\u001b[1;32m    571\u001b[0m \u001b[0;34m\u001b[0m\u001b[0m\n\u001b[1;32m    572\u001b[0m     \u001b[0;32mdef\u001b[0m \u001b[0m_request\u001b[0m\u001b[0;34m(\u001b[0m\u001b[0mself\u001b[0m\u001b[0;34m,\u001b[0m \u001b[0mmethod\u001b[0m\u001b[0;34m,\u001b[0m \u001b[0mpath\u001b[0m\u001b[0;34m=\u001b[0m\u001b[0mNone\u001b[0m\u001b[0;34m,\u001b[0m \u001b[0mbody\u001b[0m\u001b[0;34m=\u001b[0m\u001b[0mNone\u001b[0m\u001b[0;34m,\u001b[0m \u001b[0mheaders\u001b[0m\u001b[0;34m=\u001b[0m\u001b[0mNone\u001b[0m\u001b[0;34m,\u001b[0m \u001b[0;34m**\u001b[0m\u001b[0mparams\u001b[0m\u001b[0;34m)\u001b[0m\u001b[0;34m:\u001b[0m\u001b[0;34m\u001b[0m\u001b[0m\n",
      "\u001b[0;32m/usr/local/lib/python2.7/dist-packages/CouchDB-1.1-py2.7.egg/couchdb/http.pyc\u001b[0m in \u001b[0;36m_request_json\u001b[0;34m(self, method, path, body, headers, **params)\u001b[0m\n\u001b[1;32m    583\u001b[0m     \u001b[0;32mdef\u001b[0m \u001b[0m_request_json\u001b[0m\u001b[0;34m(\u001b[0m\u001b[0mself\u001b[0m\u001b[0;34m,\u001b[0m \u001b[0mmethod\u001b[0m\u001b[0;34m,\u001b[0m \u001b[0mpath\u001b[0m\u001b[0;34m=\u001b[0m\u001b[0mNone\u001b[0m\u001b[0;34m,\u001b[0m \u001b[0mbody\u001b[0m\u001b[0;34m=\u001b[0m\u001b[0mNone\u001b[0m\u001b[0;34m,\u001b[0m \u001b[0mheaders\u001b[0m\u001b[0;34m=\u001b[0m\u001b[0mNone\u001b[0m\u001b[0;34m,\u001b[0m \u001b[0;34m**\u001b[0m\u001b[0mparams\u001b[0m\u001b[0;34m)\u001b[0m\u001b[0;34m:\u001b[0m\u001b[0;34m\u001b[0m\u001b[0m\n\u001b[1;32m    584\u001b[0m         status, headers, data = self._request(method, path, body=body,\n\u001b[0;32m--> 585\u001b[0;31m                                               headers=headers, **params)\n\u001b[0m\u001b[1;32m    586\u001b[0m         \u001b[0;32mif\u001b[0m \u001b[0;34m'application/json'\u001b[0m \u001b[0;32min\u001b[0m \u001b[0mheaders\u001b[0m\u001b[0;34m.\u001b[0m\u001b[0mget\u001b[0m\u001b[0;34m(\u001b[0m\u001b[0;34m'content-type'\u001b[0m\u001b[0;34m,\u001b[0m \u001b[0;34m''\u001b[0m\u001b[0;34m)\u001b[0m\u001b[0;34m:\u001b[0m\u001b[0;34m\u001b[0m\u001b[0m\n\u001b[1;32m    587\u001b[0m             \u001b[0mdata\u001b[0m \u001b[0;34m=\u001b[0m \u001b[0mjson\u001b[0m\u001b[0;34m.\u001b[0m\u001b[0mdecode\u001b[0m\u001b[0;34m(\u001b[0m\u001b[0mdata\u001b[0m\u001b[0;34m.\u001b[0m\u001b[0mread\u001b[0m\u001b[0;34m(\u001b[0m\u001b[0;34m)\u001b[0m\u001b[0;34m.\u001b[0m\u001b[0mdecode\u001b[0m\u001b[0;34m(\u001b[0m\u001b[0;34m'utf-8'\u001b[0m\u001b[0;34m)\u001b[0m\u001b[0;34m)\u001b[0m\u001b[0;34m\u001b[0m\u001b[0m\n",
      "\u001b[0;32m/usr/local/lib/python2.7/dist-packages/CouchDB-1.1-py2.7.egg/couchdb/http.pyc\u001b[0m in \u001b[0;36m_request\u001b[0;34m(self, method, path, body, headers, **params)\u001b[0m\n\u001b[1;32m    579\u001b[0m         return self.session.request(method, url, body=body,\n\u001b[1;32m    580\u001b[0m                                     \u001b[0mheaders\u001b[0m\u001b[0;34m=\u001b[0m\u001b[0mall_headers\u001b[0m\u001b[0;34m,\u001b[0m\u001b[0;34m\u001b[0m\u001b[0m\n\u001b[0;32m--> 581\u001b[0;31m                                     credentials=self.credentials)\n\u001b[0m\u001b[1;32m    582\u001b[0m \u001b[0;34m\u001b[0m\u001b[0m\n\u001b[1;32m    583\u001b[0m     \u001b[0;32mdef\u001b[0m \u001b[0m_request_json\u001b[0m\u001b[0;34m(\u001b[0m\u001b[0mself\u001b[0m\u001b[0;34m,\u001b[0m \u001b[0mmethod\u001b[0m\u001b[0;34m,\u001b[0m \u001b[0mpath\u001b[0m\u001b[0;34m=\u001b[0m\u001b[0mNone\u001b[0m\u001b[0;34m,\u001b[0m \u001b[0mbody\u001b[0m\u001b[0;34m=\u001b[0m\u001b[0mNone\u001b[0m\u001b[0;34m,\u001b[0m \u001b[0mheaders\u001b[0m\u001b[0;34m=\u001b[0m\u001b[0mNone\u001b[0m\u001b[0;34m,\u001b[0m \u001b[0;34m**\u001b[0m\u001b[0mparams\u001b[0m\u001b[0;34m)\u001b[0m\u001b[0;34m:\u001b[0m\u001b[0;34m\u001b[0m\u001b[0m\n",
      "\u001b[0;32m/usr/local/lib/python2.7/dist-packages/CouchDB-1.1-py2.7.egg/couchdb/http.pyc\u001b[0m in \u001b[0;36mrequest\u001b[0;34m(self, method, url, body, headers, credentials, num_redirects)\u001b[0m\n\u001b[1;32m    287\u001b[0m \u001b[0;34m\u001b[0m\u001b[0m\n\u001b[1;32m    288\u001b[0m         \u001b[0mpath_query\u001b[0m \u001b[0;34m=\u001b[0m \u001b[0mutil\u001b[0m\u001b[0;34m.\u001b[0m\u001b[0murlunsplit\u001b[0m\u001b[0;34m(\u001b[0m\u001b[0;34m(\u001b[0m\u001b[0;34m''\u001b[0m\u001b[0;34m,\u001b[0m \u001b[0;34m''\u001b[0m\u001b[0;34m)\u001b[0m \u001b[0;34m+\u001b[0m \u001b[0mutil\u001b[0m\u001b[0;34m.\u001b[0m\u001b[0murlsplit\u001b[0m\u001b[0;34m(\u001b[0m\u001b[0murl\u001b[0m\u001b[0;34m)\u001b[0m\u001b[0;34m[\u001b[0m\u001b[0;36m2\u001b[0m\u001b[0;34m:\u001b[0m\u001b[0;36m4\u001b[0m\u001b[0;34m]\u001b[0m \u001b[0;34m+\u001b[0m \u001b[0;34m(\u001b[0m\u001b[0;34m''\u001b[0m\u001b[0;34m,\u001b[0m\u001b[0;34m)\u001b[0m\u001b[0;34m)\u001b[0m\u001b[0;34m\u001b[0m\u001b[0m\n\u001b[0;32m--> 289\u001b[0;31m         \u001b[0mconn\u001b[0m \u001b[0;34m=\u001b[0m \u001b[0mself\u001b[0m\u001b[0;34m.\u001b[0m\u001b[0mconnection_pool\u001b[0m\u001b[0;34m.\u001b[0m\u001b[0mget\u001b[0m\u001b[0;34m(\u001b[0m\u001b[0murl\u001b[0m\u001b[0;34m)\u001b[0m\u001b[0;34m\u001b[0m\u001b[0m\n\u001b[0m\u001b[1;32m    290\u001b[0m \u001b[0;34m\u001b[0m\u001b[0m\n\u001b[1;32m    291\u001b[0m         \u001b[0;32mdef\u001b[0m \u001b[0m_try_request_with_retries\u001b[0m\u001b[0;34m(\u001b[0m\u001b[0mretries\u001b[0m\u001b[0;34m)\u001b[0m\u001b[0;34m:\u001b[0m\u001b[0;34m\u001b[0m\u001b[0m\n",
      "\u001b[0;32m/usr/local/lib/python2.7/dist-packages/CouchDB-1.1-py2.7.egg/couchdb/http.pyc\u001b[0m in \u001b[0;36mget\u001b[0;34m(self, url)\u001b[0m\n\u001b[1;32m    505\u001b[0m                 \u001b[0;32mraise\u001b[0m \u001b[0mValueError\u001b[0m\u001b[0;34m(\u001b[0m\u001b[0;34m'%s is not a supported scheme'\u001b[0m \u001b[0;34m%\u001b[0m \u001b[0mscheme\u001b[0m\u001b[0;34m)\u001b[0m\u001b[0;34m\u001b[0m\u001b[0m\n\u001b[1;32m    506\u001b[0m             \u001b[0mconn\u001b[0m \u001b[0;34m=\u001b[0m \u001b[0mcls\u001b[0m\u001b[0;34m(\u001b[0m\u001b[0mhost\u001b[0m\u001b[0;34m,\u001b[0m \u001b[0mtimeout\u001b[0m\u001b[0;34m=\u001b[0m\u001b[0mself\u001b[0m\u001b[0;34m.\u001b[0m\u001b[0mtimeout\u001b[0m\u001b[0;34m)\u001b[0m\u001b[0;34m\u001b[0m\u001b[0m\n\u001b[0;32m--> 507\u001b[0;31m             \u001b[0mconn\u001b[0m\u001b[0;34m.\u001b[0m\u001b[0mconnect\u001b[0m\u001b[0;34m(\u001b[0m\u001b[0;34m)\u001b[0m\u001b[0;34m\u001b[0m\u001b[0m\n\u001b[0m\u001b[1;32m    508\u001b[0m \u001b[0;34m\u001b[0m\u001b[0m\n\u001b[1;32m    509\u001b[0m         \u001b[0;32mreturn\u001b[0m \u001b[0mconn\u001b[0m\u001b[0;34m\u001b[0m\u001b[0m\n",
      "\u001b[0;32m/usr/lib/python2.7/httplib.pyc\u001b[0m in \u001b[0;36mconnect\u001b[0;34m(self)\u001b[0m\n\u001b[1;32m    834\u001b[0m         \u001b[0;34m\"\"\"Connect to the host and port specified in __init__.\"\"\"\u001b[0m\u001b[0;34m\u001b[0m\u001b[0m\n\u001b[1;32m    835\u001b[0m         self.sock = self._create_connection((self.host,self.port),\n\u001b[0;32m--> 836\u001b[0;31m                                            self.timeout, self.source_address)\n\u001b[0m\u001b[1;32m    837\u001b[0m \u001b[0;34m\u001b[0m\u001b[0m\n\u001b[1;32m    838\u001b[0m         \u001b[0;32mif\u001b[0m \u001b[0mself\u001b[0m\u001b[0;34m.\u001b[0m\u001b[0m_tunnel_host\u001b[0m\u001b[0;34m:\u001b[0m\u001b[0;34m\u001b[0m\u001b[0m\n",
      "\u001b[0;32m/usr/lib/python2.7/socket.pyc\u001b[0m in \u001b[0;36mcreate_connection\u001b[0;34m(address, timeout, source_address)\u001b[0m\n\u001b[1;32m    573\u001b[0m \u001b[0;34m\u001b[0m\u001b[0m\n\u001b[1;32m    574\u001b[0m     \u001b[0;32mif\u001b[0m \u001b[0merr\u001b[0m \u001b[0;32mis\u001b[0m \u001b[0;32mnot\u001b[0m \u001b[0mNone\u001b[0m\u001b[0;34m:\u001b[0m\u001b[0;34m\u001b[0m\u001b[0m\n\u001b[0;32m--> 575\u001b[0;31m         \u001b[0;32mraise\u001b[0m \u001b[0merr\u001b[0m\u001b[0;34m\u001b[0m\u001b[0m\n\u001b[0m\u001b[1;32m    576\u001b[0m     \u001b[0;32melse\u001b[0m\u001b[0;34m:\u001b[0m\u001b[0;34m\u001b[0m\u001b[0m\n\u001b[1;32m    577\u001b[0m         \u001b[0;32mraise\u001b[0m \u001b[0merror\u001b[0m\u001b[0;34m(\u001b[0m\u001b[0;34m\"getaddrinfo returns an empty list\"\u001b[0m\u001b[0;34m)\u001b[0m\u001b[0;34m\u001b[0m\u001b[0m\n",
      "\u001b[0;31merror\u001b[0m: [Errno 111] Connection refused"
     ]
    }
   ],
   "source": [
    "from couchdb.client import Server\n",
    "server = Server()\n",
    "db = server.create(\"test\")\n",
    "#db.save({\"name\":\"gogogog\", \"sur\":\"vaaada\"})\n",
    "db.name"
   ]
  },
  {
   "cell_type": "code",
   "execution_count": null,
   "metadata": {
    "collapsed": true
   },
   "outputs": [],
   "source": []
  }
 ],
 "metadata": {
  "kernelspec": {
   "display_name": "Python 2",
   "language": "python",
   "name": "python2"
  },
  "language_info": {
   "codemirror_mode": {
    "name": "ipython",
    "version": 2
   },
   "file_extension": ".py",
   "mimetype": "text/x-python",
   "name": "python",
   "nbconvert_exporter": "python",
   "pygments_lexer": "ipython2",
   "version": "2.7.12"
  }
 },
 "nbformat": 4,
 "nbformat_minor": 1
}
